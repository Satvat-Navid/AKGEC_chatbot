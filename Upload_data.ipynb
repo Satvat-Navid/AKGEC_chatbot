{
 "cells": [
  {
   "cell_type": "code",
   "execution_count": 53,
   "metadata": {},
   "outputs": [],
   "source": [
    "from pinecone.grpc import PineconeGRPC as Pinecone\n",
    "from pinecone import ServerlessSpec\n",
    "from langchain_community.document_loaders import CSVLoader\n",
    "from langchain_text_splitters import RecursiveCharacterTextSplitter\n",
    "import time\n",
    "import streamlit as st\n"
   ]
  },
  {
   "cell_type": "code",
   "execution_count": 54,
   "metadata": {},
   "outputs": [],
   "source": [
    "pc = Pinecone(api_key=st.secrets['PC_API_KEY'])"
   ]
  },
  {
   "cell_type": "code",
   "execution_count": 55,
   "metadata": {},
   "outputs": [
    {
     "name": "stdout",
     "output_type": "stream",
     "text": [
      "Number of chunks: 1828\n",
      "Number of words: 550905\n",
      "average words in a chunk: 301.37064109129756\n"
     ]
    }
   ],
   "source": [
    "# Read the data to be uploaded\n",
    "csv_file=\"data\\\\akg_data.csv\"  # provide the file locaton to be upload \n",
    "def read_doc(txt_file):\n",
    "    loader = CSVLoader(file_path=txt_file,\n",
    "        csv_args={\n",
    "        'delimiter': ',',\n",
    "        'quotechar': '\"',\n",
    "        'fieldnames': ['Link', 'content']\n",
    "    })\n",
    "    document = loader.load()\n",
    "    return document\n",
    "document = read_doc(csv_file)\n",
    "\n",
    "# Chunking the document\n",
    "def chunk_data(docs, size=1800, overlap=200):\n",
    "    text_splitter = RecursiveCharacterTextSplitter(chunk_size=size, chunk_overlap=overlap)\n",
    "    doc = text_splitter.split_documents(docs)\n",
    "    return doc\n",
    "chunks = chunk_data(document)\n",
    "print(\"Number of chunks:\", len(chunks))\n",
    "\n",
    "# Taking the fact that the average length of a word is 4.7 characters\n",
    "avg_words = 0\n",
    "for i in range(len(chunks)):\n",
    "    word = len(chunks[i].page_content)/4.7\n",
    "    avg_words += word\n",
    "print(\"Number of words:\", int(avg_words))\n",
    "print(\"average words in a chunk:\", avg_words/len(chunks))\n"
   ]
  },
  {
   "cell_type": "code",
   "execution_count": 56,
   "metadata": {},
   "outputs": [],
   "source": [
    "# # search the chunks with their size.\n",
    "\n",
    "# num = 0\n",
    "# for i in range(len(chunks)):\n",
    "#     if len(chunks[i].page_content) < 100:\n",
    "#         num += 1 \n",
    "#         print(len(chunks[i].page_content), chunks[i].page_content)\n",
    "# print(num)"
   ]
  },
  {
   "cell_type": "code",
   "execution_count": 57,
   "metadata": {},
   "outputs": [],
   "source": [
    "# Create the index if not present\n",
    "index_name = \"akgec-data\"\n",
    "if not pc.has_index(index_name):\n",
    "    pc.create_index(\n",
    "        name=index_name,\n",
    "        dimension=1024,\n",
    "        metric=\"cosine\",\n",
    "        spec=ServerlessSpec(\n",
    "            cloud=\"aws\", \n",
    "            region=\"us-east-1\"\n",
    "        ) \n",
    "    )\n",
    "\n",
    "while not pc.describe_index(index_name).status['ready']:\n",
    "    time.sleep(1)\n",
    "\n",
    "# Make instance of index\n",
    "index = pc.Index(index_name)"
   ]
  },
  {
   "cell_type": "code",
   "execution_count": 58,
   "metadata": {},
   "outputs": [
    {
     "data": {
      "text/plain": [
       "'DEMO FINTIONS'"
      ]
     },
     "execution_count": 58,
     "metadata": {},
     "output_type": "execute_result"
    }
   ],
   "source": [
    "\"\"\"DEMO FINTIONS\"\"\"\n",
    "\n",
    "# # Funtion to create embeddings\n",
    "# ## (end - start) must be smaller than 90. Do not try to enbed more than 90 embeddings at a time. \n",
    "# def create_embeddings(start, end):\n",
    "#     embeddings = pc.inference.embed(\n",
    "#         model=\"multilingual-e5-large\",\n",
    "#         inputs=[d.page_content for d in chunks[start:end]],\n",
    "#         parameters={\n",
    "#             \"input_type\": \"passage\", \n",
    "#             \"truncate\": \"END\"\n",
    "#         }\n",
    "#     )\n",
    "#     return embeddings\n",
    "\n",
    "# embeddings = create_embeddings(0, 1)\n",
    "# print(embeddings)\n",
    "# print(len(embeddings.data[0]['values']))\n",
    "\n",
    "# # DEMO funtion that display the structure of data to be upsert to vectorDB.\n",
    "# def create_doc():\n",
    "#     doc = []\n",
    "#     for idx, text in enumerate(chunks):\n",
    "#         doc.append({\"id\":str(idx), \"text\": text.page_content})\n",
    "#     return doc\n",
    "# docs = create_doc()\n",
    "# print(docs[1])"
   ]
  },
  {
   "cell_type": "markdown",
   "metadata": {},
   "source": [
    ">## The Create_rec funtion uses two funtion:\n",
    "#### 1. Creating doc file to make record that has no limit to input size.\n",
    "#### 2. Embeddings funtion that has limit of only 90 embedding at a time."
   ]
  },
  {
   "cell_type": "code",
   "execution_count": 59,
   "metadata": {},
   "outputs": [],
   "source": [
    "# CREATE THE FINAL RECORD TO BE UPLOADED.\n",
    "## (end - start) must be smaller than 90. Do not try to create more than 90 records at a time due to embedding limits. \n",
    "\n",
    "def create_rec(start, end):\n",
    "    doc = []\n",
    "    # Creating the document file to be used to create vectorstore\n",
    "    for idx, text in enumerate(chunks):\n",
    "        doc.append({\"id\":str(idx), \"text\": text.page_content})\n",
    "\n",
    "    # Funtion to create embeddings\n",
    "    embeddings = pc.inference.embed(\n",
    "        model=\"llama-text-embed-v2\",\n",
    "        # model=\"multilingual-e5-large\",\n",
    "        inputs=[d.page_content for d in chunks[start:end]],\n",
    "        parameters={\n",
    "            \"input_type\": \"passage\", \n",
    "            \"truncate\": \"END\"\n",
    "        }\n",
    "    )\n",
    "    \n",
    "    # Record to be uploaded.\n",
    "    records = []\n",
    "    for d, e in zip(doc[start:end], embeddings):\n",
    "        records.append({\n",
    "            \"id\": d[\"id\"],\n",
    "            \"values\": e[\"values\"],\n",
    "            \"metadata\": {\n",
    "                \"source_text\": d[\"text\"]\n",
    "            }\n",
    "        })\n",
    "    return records"
   ]
  },
  {
   "cell_type": "code",
   "execution_count": 60,
   "metadata": {},
   "outputs": [],
   "source": [
    "# record_num = 345\n",
    "# numU = 250\n",
    "# numE = 20\n",
    "# for j in range(0, record_num, numU):\n",
    "#     for i in range(j, min(j+numU, record_num), numE):\n",
    "#         print(i, min(min(i+numE, record_num),  j+numU))\n",
    "#         time.sleep(0.1)\n",
    "#     print(\"UPSERT********\")\n",
    "\n",
    "    "
   ]
  },
  {
   "cell_type": "code",
   "execution_count": 61,
   "metadata": {},
   "outputs": [
    {
     "data": {
      "text/plain": [
       "'THIS WILL ADD THE DATA TO DB WITHOUT WORNING'"
      ]
     },
     "execution_count": 61,
     "metadata": {},
     "output_type": "execute_result"
    }
   ],
   "source": [
    "\"\"\"THIS WILL ADD THE DATA TO DB WITHOUT WORNING\"\"\"\n",
    "# Upload records in bulks. (Use this if the len(chunks) is large).\n",
    "# This funtion take couple of minutes.\n",
    "\n",
    "# record_num = len(chunks)\n",
    "# numU = 250\n",
    "# numE = 20\n",
    "# for j in range(0, record_num, numU):\n",
    "#     vectors = []\n",
    "#     for i in range(j, min(j+numU, record_num), numE):\n",
    "#         rec = create_rec(i, min(min(i+numE, record_num), j+numU))\n",
    "#         time.sleep(1)\n",
    "#         vectors += rec\n",
    "#     index.upsert(\n",
    "#     vectors=vectors,\n",
    "#     namespace=\"doc1\"\n",
    "#     )"
   ]
  },
  {
   "cell_type": "code",
   "execution_count": 62,
   "metadata": {},
   "outputs": [],
   "source": [
    "# Input the query and Embedd it.\n",
    "query = \"who is anu chaudhary\"\n",
    "query_embedding = pc.inference.embed(\n",
    "    model=\"llama-text-embed-v2\",\n",
    "    # model=\"multilingual-e5-large\",\n",
    "    inputs=[query],\n",
    "    parameters={\n",
    "        \"input_type\": \"query\"\n",
    "    }\n",
    ")\n",
    "\n",
    "# Search in the VectorDB and display result\n",
    "results = index.query(\n",
    "    namespace=\"doc1\",\n",
    "    vector=query_embedding[0].values,\n",
    "    top_k=4,\n",
    "    include_values=False,\n",
    "    include_metadata=True\n",
    ")"
   ]
  },
  {
   "cell_type": "code",
   "execution_count": 63,
   "metadata": {},
   "outputs": [
    {
     "data": {
      "text/plain": [
       "'more than 20 research papers in both international and national journals and conferences. He holds 6 patents at the national level. His academic engagement includes guiding Ph.D. scholars, as well as supervising numerous M.Tech, MCA, and B.Tech projects. Dr. Chaudhary current area of research is in the field of High Speed Data Networks, Machine Learning, Data Science and related domains. He\\'s an active participant in the academic community, serving on editorial and reviewer boards of various national and international journals. He has also taken on leadership roles by chairing multiple national and international conferences. Dr. Chaudhary is a member of several technical societies, including the Institution of Electronics and Telecommunication Engineers (IETE) and the Computer Society of India (CSI). Prof (Dr.) Anu Chaudhary Ph.D (Computer Science), M.Tech (Computer Science), MCA 8527976204 (M) hodcse@akgec.ac.in, chaudharyanu@akgec.ac.in, getanuchaudhary@yahoo.com, dr.anuchaudhary@gmail.com CSE Faculty Faculty at AKGEC fulfil multiple roles as educators, researchers and professionals having a broad range of backgrounds, scholarly interests and areas of expertise thereby bringing substantial achievement in professional practice and research into the classroom. [gs_team theme=\"gs_tm_theme1\" group=\"CSE Faculty\" cols=\"2\"] VIEW ALL Labs Python Language Programming Lab Software Engineering Lab C programming Lab Operating System Lab Web Technology Lab Computer Network Lab M. Tech. Lab Project Lab Adequate and Well Equipped Laboratories of CSE Department 1. The department has adequate number of laboratories as per requirement (strength of students in the department and number of labs / practical courses mentioned in syllabus scheme of university (AKTU, Lucknow). 2. These'"
      ]
     },
     "execution_count": 63,
     "metadata": {},
     "output_type": "execute_result"
    }
   ],
   "source": [
    "results[\"matches\"][0]['metadata']['source_text']"
   ]
  },
  {
   "cell_type": "code",
   "execution_count": 64,
   "metadata": {},
   "outputs": [
    {
     "data": {
      "text/plain": [
       "'community and with society at large, such as, being able to comprehend and write effective reports and design documentation, make effective presentations, and give and receive clear instructions. PO 11. Project management and finance :- Demonstrate knowledge and understanding of the engineering and management principles and apply these to one’s own work, as a member and leader in a team, to manage projects and in multidisciplinary environments. PO 12. Life-long learning :- Recognize the need for, and have the preparation and ability to engage in independent and life-long learning in the broadest context of technological changes in the field of Computer Science. Program Specific Outcomes (PSOs) w.e.f. Session 2016-17 PSO 1. Ability to exhibit analytical & logical skills and apply knowledge of Maths and Computer Science to design, develop, test and maintenance of software solutions. PSO 2. Ability to identify, formulate and resolve real life/social problems by using current computer technology. HOD Dr. Anu Chaudhary, is a Professor and Head at the Department of Computer Science and Engineering. He has an extensive background in both academia and industry, with over 22 years of experience. He holds a Ph.D. in Computer Science from Gurukul Kangari University, Hardwar (U.K) India, specializing in the field of “Performance Evaluation of High Speed Data Networks.\" He also has an M. Tech in Computer Science from Birla Institute of Technology (BIT), Mesra Ranchi, and an MCA from the University of Madras. Dr. Chaudhary has made notable contributions to research, having published more than 20 research papers in both international and national journals and conferences. He holds 6 patents at the national level. His academic engagement includes guiding Ph.D. scholars, as well as'"
      ]
     },
     "execution_count": 64,
     "metadata": {},
     "output_type": "execute_result"
    }
   ],
   "source": [
    "results[\"matches\"][1]['metadata']['source_text']"
   ]
  },
  {
   "cell_type": "code",
   "execution_count": 65,
   "metadata": {},
   "outputs": [
    {
     "data": {
      "text/plain": [
       "'content: CSE Faculty » CSE Faculty Home Faculty Labs Achievements Society Departmental Activities Profile Link Dr. Anu Chaudhary Professor & HOD Ph.D Profile Link Dr. Shashank Sahu Professor Ph.D Profile Link Dr. Rajesh Prasad Professor Ph.D Profile Link Dr. Avdhesh Gupta Professor Ph.D Profile Link Dr. Ayushi Prakash Professor Ph.D Profile Link Dr. Sonam Gupta Professor Ph.D Profile Link Dr. Inderjeet Kaur Professor Ph.D Profile Link Dr. Akhilesh Verma Professor Ph.D Profile Link Dr. Santosh Kumar Associate Professor Ph.D Profile Link Dr. Anuradha Associate Professor Ph.D Profile Link Dr. Jaishree Jain Associate Professor Ph.D Profile Link Dr. Nishant Kumar Pathak Associate Professor Ph.D Profile Link Dr. Pawan Associate Professor Ph.D Profile Link Dr. Ashish Dixit Associate Professor Ph.D Profile Link Dr. Shiva Tyagi Associate Professor M.Tech, Ph.D Profile Link Mr. B.N Pandey Assistant Professor M.Tech, Ph.D* Profile Link Mr. Pradeep Gupta Assistant Professor M.Tech, Ph.D* Profile Link Mr. Pronab Kumar Adhikari Assistant Professor M.Tech, Ph.D* Profile Link Mr. Vishal Chaudhary Assistant Professor M.Tech Profile Link Mr. Vishal Jayaswal Assistant Professor M.Tech, Ph.D* Profile Link Ms. Neerja Arora Assistant Professor M.Tech Profile Link Ms. Rekha Baghel Assistant Professor M.Tech, Ph.D* Profile Link Mr. Yogendra Narayan Prajapati Assistant Professor M.Tech, Ph.D* Profile Link Ms. Kamna Singh Assistant Professor M.Tech, Ph.D* Profile Link Ms. Amrita Bhatnagar Assistant Professor M.Tech, Ph.D* Profile Link Ms. Juli Yadav Assistant Professor M.Tech, Ph.D* Profile Link Ms. Sonali Assistant Professor M.Tech, Ph.D* Profile Link Mr. Sandeep Yadav Assistant Professor M.Tech, Ph.D* Profile Link Mr. Anuj Kumar Assistant Professor M.Tech, Ph.D* Profile Link Mr. Manish Kumar'"
      ]
     },
     "execution_count": 65,
     "metadata": {},
     "output_type": "execute_result"
    }
   ],
   "source": [
    "results[\"matches\"][2]['metadata']['source_text']"
   ]
  },
  {
   "cell_type": "code",
   "execution_count": 66,
   "metadata": {},
   "outputs": [
    {
     "data": {
      "text/plain": [
       "'Participated Anushree Maurya 24 War of Bands Ist JSSATE 30-Mar-17 Palak Srivastava 25 Ist Bhumika Lohani 26 Duet singing Participated KNMIT, Modinagar 7-8th November, 2016 Bhumika Lohani 27 Group Singing Participated KNMIT, Modinagar 7-8th November, 2016 Palak Srivastava 28 Play/Skit Participated KNMIT, Modinagar 7-8th November, 2016 Harsh Shukla 29 Participated Sumit Gupta 30 Participated Ekansh Pandey 31 Participated Mohd. Zaid 32 Participated Shubham Verma 33 Fashion show Participated KNMIT, Modinagar 7-8th November, 2016 Apoorva Singh 34 Rendezvous Participated IIT Delhi 22-Oct-16 Palak Srivastava 35 Participated Bhumika Lohani 36 37 Genero’16 Participated ABES Engineering College 19th Oct 2016 Palak Srivastava Participated Bhumika Lohani 38 Volleyball Participated Maharaja Agrasen 18-19th Oct 2016 Rahul 39 Coding Participated KIET, Ghaziabad 16-18th Sept. 2016 Akshay Sachan 40 Business Quiz Participated KIET, Ghaziabad 16-18th Sept. 2016 Rohan Singh 41 Robo Race Ist KIET, Ghaziabad 16-18th Sept. 2016 Sankalp Rastogi 42 Ist Kshitij Mishra 43 Business Plan Participated KIET, Ghaziabad 16-18th Sept. 2016 Harsh Shukla 44 Cricket Participated ITS Engineering College 4th April 2016 Sudesh Chaudhary 45 Participated Ata Khan 46 Participated Abhinav Singh 47 Participated Arun 48 Group Dance Participated SRM, Modinagar 2nd April 2016 Nalini Singh 49 Participated Devina Kumar 50 Participated Utkarsh Mishra 51 Participated Abhishek Verma 52 Group Dance 2nd Galgotia University 16-18th March 2016 Nalini Singh 53 2nd Devina Kumar 54 2nd Utkarsh Mishra 55 2nd Abhishek Verma 56 Group Singing Participated RKGIT, Ghaziabad 19-20th Feb 2016 Bhumika Lohani 57 Participated Palak Srivastava 58 Duet Dance Participated RKGIT, Ghaziabad 19-20th Feb 2016 Devina Kumar 59 Green Card Making'"
      ]
     },
     "execution_count": 66,
     "metadata": {},
     "output_type": "execute_result"
    }
   ],
   "source": [
    "results[\"matches\"][3]['metadata']['source_text']"
   ]
  }
 ],
 "metadata": {
  "kernelspec": {
   "display_name": "Python 3",
   "language": "python",
   "name": "python3"
  },
  "language_info": {
   "codemirror_mode": {
    "name": "ipython",
    "version": 3
   },
   "file_extension": ".py",
   "mimetype": "text/x-python",
   "name": "python",
   "nbconvert_exporter": "python",
   "pygments_lexer": "ipython3",
   "version": "3.12.9"
  }
 },
 "nbformat": 4,
 "nbformat_minor": 2
}
