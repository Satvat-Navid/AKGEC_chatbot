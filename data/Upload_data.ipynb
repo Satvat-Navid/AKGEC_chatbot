{
 "cells": [
  {
   "cell_type": "code",
   "execution_count": 5,
   "metadata": {},
   "outputs": [
    {
     "data": {
      "text/plain": [
       "True"
      ]
     },
     "execution_count": 5,
     "metadata": {},
     "output_type": "execute_result"
    }
   ],
   "source": [
    "from pinecone.grpc import PineconeGRPC as Pinecone\n",
    "from pinecone import ServerlessSpec\n",
    "from langchain_community.document_loaders import CSVLoader\n",
    "from langchain_text_splitters import RecursiveCharacterTextSplitter\n",
    "import time\n",
    "import streamlit as st\n",
    "import os\n",
    "from dotenv import load_dotenv\n",
    "load_dotenv()\n"
   ]
  },
  {
   "cell_type": "code",
   "execution_count": 6,
   "metadata": {},
   "outputs": [],
   "source": [
    "\n",
    "pc = Pinecone(api_key=os.getenv('PC_API_KEY'))"
   ]
  },
  {
   "cell_type": "code",
   "execution_count": 7,
   "metadata": {},
   "outputs": [
    {
     "name": "stdout",
     "output_type": "stream",
     "text": [
      "Number of chunks: 719\n",
      "Number of words: 226674\n",
      "average words in a chunk: 315.26381203207694\n"
     ]
    }
   ],
   "source": [
    "# Read the data to be uploaded\n",
    "csv_file=\"akgec.csv\"  # provide the file locaton to be upload \n",
    "def read_doc(txt_file):\n",
    "    loader = CSVLoader(file_path=txt_file,\n",
    "        csv_args={\n",
    "        'delimiter': ',',\n",
    "        'quotechar': '\"',\n",
    "        'fieldnames': ['Link', 'content']\n",
    "    })\n",
    "    document = loader.load()\n",
    "    return document\n",
    "document = read_doc(csv_file)\n",
    "\n",
    "# Chunking the document\n",
    "def chunk_data(docs, size=1800, overlap=200):\n",
    "    text_splitter = RecursiveCharacterTextSplitter(chunk_size=size, chunk_overlap=overlap)\n",
    "    doc = text_splitter.split_documents(docs)\n",
    "    return doc\n",
    "chunks = chunk_data(document)\n",
    "print(\"Number of chunks:\", len(chunks))\n",
    "\n",
    "# Taking the fact that the average length of a word is 4.7 characters\n",
    "avg_words = 0\n",
    "for i in range(len(chunks)):\n",
    "    word = len(chunks[i].page_content)/4.7\n",
    "    avg_words += word\n",
    "print(\"Number of words:\", int(avg_words))\n",
    "print(\"average words in a chunk:\", avg_words/len(chunks))\n"
   ]
  },
  {
   "cell_type": "markdown",
   "metadata": {},
   "source": [
    "### Stats for the namespace- doc1\n",
    "Number of chunks: 1828\n",
    "\n",
    "Number of words: 550905\n",
    "\n",
    "average words in a chunk: 301.37064109129756"
   ]
  },
  {
   "cell_type": "code",
   "execution_count": 56,
   "metadata": {},
   "outputs": [],
   "source": [
    "# # search the chunks with their size.\n",
    "\n",
    "# num = 0\n",
    "# for i in range(len(chunks)):\n",
    "#     if len(chunks[i].page_content) < 100:\n",
    "#         num += 1 \n",
    "#         print(len(chunks[i].page_content), chunks[i].page_content)\n",
    "# print(num)"
   ]
  },
  {
   "cell_type": "code",
   "execution_count": 8,
   "metadata": {},
   "outputs": [],
   "source": [
    "# Create the index if not present\n",
    "index_name = \"akgec-data\"\n",
    "if not pc.has_index(index_name):\n",
    "    pc.create_index(\n",
    "        name=index_name,\n",
    "        dimension=1024,\n",
    "        metric=\"cosine\",\n",
    "        spec=ServerlessSpec(\n",
    "            cloud=\"aws\", \n",
    "            region=\"us-east-1\"\n",
    "        ) \n",
    "    )\n",
    "\n",
    "while not pc.describe_index(index_name).status['ready']:\n",
    "    time.sleep(1)\n",
    "\n",
    "# Make instance of index\n",
    "index = pc.Index(index_name)"
   ]
  },
  {
   "cell_type": "code",
   "execution_count": 58,
   "metadata": {},
   "outputs": [
    {
     "data": {
      "text/plain": [
       "'DEMO FINTIONS'"
      ]
     },
     "execution_count": 58,
     "metadata": {},
     "output_type": "execute_result"
    }
   ],
   "source": [
    "\"\"\"DEMO FINTIONS\"\"\"\n",
    "\n",
    "# # Funtion to create embeddings\n",
    "# ## (end - start) must be smaller than 90. Do not try to enbed more than 90 embeddings at a time. \n",
    "# def create_embeddings(start, end):\n",
    "#     embeddings = pc.inference.embed(\n",
    "#         model=\"multilingual-e5-large\",\n",
    "#         inputs=[d.page_content for d in chunks[start:end]],\n",
    "#         parameters={\n",
    "#             \"input_type\": \"passage\", \n",
    "#             \"truncate\": \"END\"\n",
    "#         }\n",
    "#     )\n",
    "#     return embeddings\n",
    "\n",
    "# embeddings = create_embeddings(0, 1)\n",
    "# print(embeddings)\n",
    "# print(len(embeddings.data[0]['values']))\n",
    "\n",
    "# # DEMO funtion that display the structure of data to be upsert to vectorDB.\n",
    "# def create_doc():\n",
    "#     doc = []\n",
    "#     for idx, text in enumerate(chunks):\n",
    "#         doc.append({\"id\":str(idx), \"text\": text.page_content})\n",
    "#     return doc\n",
    "# docs = create_doc()\n",
    "# print(docs[1])"
   ]
  },
  {
   "cell_type": "markdown",
   "metadata": {},
   "source": [
    ">## The Create_rec funtion uses two funtion:\n",
    "#### 1. Creating doc file to make record that has no limit to input size.\n",
    "#### 2. Embeddings funtion that has limit of only 90 embedding at a time."
   ]
  },
  {
   "cell_type": "code",
   "execution_count": 9,
   "metadata": {},
   "outputs": [],
   "source": [
    "# CREATE THE FINAL RECORD TO BE UPLOADED.\n",
    "## (end - start) must be smaller than 90. Do not try to create more than 90 records at a time due to embedding limits. \n",
    "\n",
    "def create_rec(start, end):\n",
    "    doc = []\n",
    "    # Creating the document file to be used to create vectorstore\n",
    "    for idx, text in enumerate(chunks):\n",
    "        doc.append({\"id\":str(idx), \"text\": text.page_content})\n",
    "\n",
    "    # Funtion to create embeddings\n",
    "    embeddings = pc.inference.embed(\n",
    "        model=\"llama-text-embed-v2\",\n",
    "        # model=\"multilingual-e5-large\",\n",
    "        inputs=[d.page_content for d in chunks[start:end]],\n",
    "        parameters={\n",
    "            \"input_type\": \"passage\", \n",
    "            \"truncate\": \"END\"\n",
    "        }\n",
    "    )\n",
    "    \n",
    "    # Record to be uploaded.\n",
    "    records = []\n",
    "    for d, e in zip(doc[start:end], embeddings):\n",
    "        records.append({\n",
    "            \"id\": d[\"id\"],\n",
    "            \"values\": e[\"values\"],\n",
    "            \"metadata\": {\n",
    "                \"source_text\": d[\"text\"]\n",
    "            }\n",
    "        })\n",
    "    return records"
   ]
  },
  {
   "cell_type": "code",
   "execution_count": 60,
   "metadata": {},
   "outputs": [],
   "source": [
    "# record_num = 345\n",
    "# numU = 250\n",
    "# numE = 20\n",
    "# for j in range(0, record_num, numU):\n",
    "#     for i in range(j, min(j+numU, record_num), numE):\n",
    "#         print(i, min(min(i+numE, record_num),  j+numU))\n",
    "#         time.sleep(0.1)\n",
    "#     print(\"UPSERT********\")\n",
    "\n",
    "    "
   ]
  },
  {
   "cell_type": "code",
   "execution_count": 10,
   "metadata": {},
   "outputs": [],
   "source": [
    "\"\"\"THIS WILL ADD THE DATA TO DB WITHOUT WORNING\"\"\"\n",
    "# Upload records in bulks. (Use this if the len(chunks) is large).\n",
    "# This funtion take couple of minutes.\n",
    "\n",
    "record_num = len(chunks)\n",
    "numU = 250\n",
    "numE = 20\n",
    "for j in range(0, record_num, numU):\n",
    "    vectors = []\n",
    "    for i in range(j, min(j+numU, record_num), numE):\n",
    "        rec = create_rec(i, min(min(i+numE, record_num), j+numU))\n",
    "        time.sleep(1)\n",
    "        vectors += rec\n",
    "    index.upsert(\n",
    "    vectors=vectors,\n",
    "    namespace=\"fit-markdown-data\"\n",
    "    )"
   ]
  },
  {
   "cell_type": "code",
   "execution_count": 17,
   "metadata": {},
   "outputs": [],
   "source": [
    "# Input the query and Embedd it.\n",
    "query = \"who is satvat\"\n",
    "query_embedding = pc.inference.embed(\n",
    "    model=\"llama-text-embed-v2\",\n",
    "    # model=\"multilingual-e5-large\",\n",
    "    inputs=[query],\n",
    "    parameters={\n",
    "        \"input_type\": \"query\"\n",
    "    }\n",
    ")\n",
    "\n",
    "# Search in the VectorDB and display result\n",
    "results = index.query(\n",
    "    namespace=\"fit-markdown-data\",\n",
    "    vector=query_embedding[0].values,\n",
    "    top_k=4,\n",
    "    include_values=False,\n",
    "    include_metadata=True\n",
    ")"
   ]
  },
  {
   "cell_type": "code",
   "execution_count": 18,
   "metadata": {},
   "outputs": [
    {
     "data": {
      "text/plain": [
       "'with assignments and resources related to the topics covered on a daily basis.\\\\n**Topics covered in the workshop:** Introduction to Augmented RealityIntroduction to UnityImage targeting in AR using Vuforia and unityBasics about general physics in unityHands on experience on snapchat AR lens studioBasics about meshes,textures and other assets of 3D modelsBasics about game development through unityCreated Snapchat filter using lab studioCreated 2 apps using unity\\\\n**Instructor:** Saksham Saini,CTO and Co-founder Vorphy.\\\\n**Accomplishments**\\\\nSDC received an overwhelming 186 registrations* from the 3rd year students among which 70 lucky students were selected to attend the workshop. SDC-SI successfully conducted the workshop maintaining the audience’s attention and spirit of the event throughout the entire duration of the workshop.\\\\nThe workshop introduced the participants to upcoming technologies like AR/VR. The participants gained practical knowledge about basic concepts,hands-on experience in creating 2 apps and a snapchat filter with the guidance from the instructor. The workshop broadened the horizon of the participants and ushered them to unfurl new milestones in this field and beyond.* The list of attendees is attached for reference.\\\\nWe received an overwhelming and extremely positive response from the 3rd year students.“Lots of topics covered in very less time.”“This workshop is good for beginners and a very convenient way to start building a grasp on AR/VR,unity etc.”“Got to learn some new things even though having prior knowledge about unity.”\\\\n### \\\\nSDC-SI,in association with VORPHY,conducted a workshop for students in the third year to introduce them to AR/VR. The trained professionals from Vorphy conducted the workshop. This helped the students to get'"
      ]
     },
     "execution_count": 18,
     "metadata": {},
     "output_type": "execute_result"
    }
   ],
   "source": [
    "results[\"matches\"][0]['metadata']['source_text']"
   ]
  },
  {
   "cell_type": "code",
   "execution_count": 14,
   "metadata": {},
   "outputs": [
    {
     "data": {
      "text/plain": [
       "'of Electronics and Telecommunication Engineers (IETE) and the Computer Society of India (CSI).\\\\nProf (Dr.) Anu Chaudhary\\\\nPh.D (Computer Science),M.Tech (Computer Science),MCA 8527976204 (M) hodcse@akgec.ac.in,chaudharyanu@akgec.ac.in,getanuchaudhary@yahoo.com,dr.anuchaudhary@gmail.com\\\\n### CSE Faculty\\\\nFaculty at AKGEC fulfil multiple roles as educators,researchers and professionals having a broad range of backgrounds,scholarly interests and areas of expertise thereby bringing substantial achievement in professional practice and research into the classroom.\\\\n[gs_team theme=\"\"gs_tm_theme1\"\" group=\"\"CSE Faculty\"\" cols=\"\"2\"\"]\\\\n### Labs\\\\nPython LanguageProgramming Lab\\\\nSoftware Engineering Lab\\\\nC programming Lab\\\\nOperating System Lab\\\\nWeb TechnologyLab\\\\nComputer Network Lab\\\\nM. Tech. Lab\\\\nProject Lab\\\\n### \\\\n1. The department has adequate number of laboratories as per requirement (strength of students in the department and number of labs / practical courses mentioned in syllabus scheme of university (AKTU,Lucknow).\\\\n2. These laboratories are fully equipped with hardware kits / equipment’s,software tools and consumables.\\\\n3. These labs have all the basic as well as advanced level facilities to fulfil the requirements of UG,PG and PhD level courses.\\\\n4. These laboratories are utilized by the students and faculty members of CSE department for performing the practical experiments,doing the Project Work and Research Activities (R & D).\\\\n5. One dedicated lab staff member is always present in each lab room (responsibility of each lab room has been assigned to a particular lab staff).\\\\n6. Adequate Budget is planned and expenditure is done from the allocated fund to ensure the repairing of faulty equipment’s,purchase of consumables,lab equipment’s / hardware kits and software'"
      ]
     },
     "execution_count": 14,
     "metadata": {},
     "output_type": "execute_result"
    }
   ],
   "source": [
    "results[\"matches\"][1]['metadata']['source_text']"
   ]
  },
  {
   "cell_type": "code",
   "execution_count": 15,
   "metadata": {},
   "outputs": [
    {
     "data": {
      "text/plain": [
       "'| ARUN KUMAR MAURYA | 1768 | 88.40 | I | EN / II  \\\\n56 | 1602721017 | ANDLEEB KHAN | 1759 | 87.95 | II | EN / II  \\\\n57 | 1602721012 | AKASH YADAV | 1750 | 87.50 | III | EN / II  \\\\n58 | 1602713101 | SHREYA TYAGI | 1786 | 89.30 | I | IT / II  \\\\n59 | 1602713003 | AARUSHI GARG | 1729 | 86.45 | II | IT / II  \\\\n60 | 1602713100 | SHREYA SINGH | 1728 | 86.40 | III | IT / II  \\\\n61 | 1602740072 | KAMALDEEP KAUR | 1751 | 87.55 | I | ME / II  \\\\n62 | 1602740117 | RAHUL KUMAR MAURYA | 1727 | 86.35 | II | ME / II  \\\\n63 | 1602740169 | UTKARSH DWIVEDI | 1727 | 86.35 | II | ME / II  \\\\n64 | 1602740059 | DIVYANSHU PALIWAL | 1710 | 85.50 | III | ME / II  \\\\n65 | 1702700071 | SHIVAM SINGH | 1608 | 89.33 | I | CIVIL  \\\\n66 | 1702700041 | MOHD FAIZAN | 1601 | 88.94 | II | CIVIL  \\\\n67 | 1702700050 | PRIYANKA | 1601 | 88.94 | II | CIVIL  \\\\n68 | 1702700049 | PRAVEEN KUNAL | 1597 | 88.72 | III | CIVIL  \\\\n69 | 1702710189 | YUKTA CHAUHAN | 1652 | 91.78 | I | CSE  \\\\n70 | 1702710081 | MANISH SHARMA | 1650 | 91.67 | II | CSE  \\\\n71 | 1702710152 | SHABAN ANSARI | 1644 | 91.33 | III | CSE  \\\\n72 | 1702731120 | SAKSHI DUBEY | 1664 | 92.44 | I | ECE  \\\\n73 | 1702731144 | SHUBHANGI AGARWAL | 1635 | 90.83 | II | ECE  \\\\n74 | 1702731025 | ANANYA | 1626 | 90.33 | III | ECE  \\\\n75 | 1702732003 | ANSHUL VARSHNEY | 1599 | 88.83 | I | EI  \\\\n76 | 1702732007 | MALAY PRATAP SINGH | 1518 | 84.33 | II | EI  \\\\n77 | 1702732017 | RICHA RAI | 1506 | 83.67 | III | EI  \\\\n78 | 1702721023 | DEVANSH BHATNAGAR | 1671 | 92.83 | I | EN  \\\\n79 | 1702721044 | MUKUL SHARMA | 1660 | 92.22 | II | EN  \\\\n80 | 1702721071 | SIDDHANT KUMAR SINGH | 1655 | 91.94 | III | EN  \\\\n81 | 1702713082 | RITIK TRIPATHI | 1644 | 91.33 | I | IT-2  \\\\n82 | 1702713078 | RIPUDAMAN SINGH | 1635 | 90.83 | II | IT-2  \\\\n83 | 1702713037 | DEEKSHA SINGH | 1621 | 90.06 |'"
      ]
     },
     "execution_count": 15,
     "metadata": {},
     "output_type": "execute_result"
    }
   ],
   "source": [
    "results[\"matches\"][2]['metadata']['source_text']"
   ]
  },
  {
   "cell_type": "code",
   "execution_count": 16,
   "metadata": {},
   "outputs": [
    {
     "data": {
      "text/plain": [
       "'| ANUJ KUMAR | 1178 | 1400 | 84.14285714 | II | MCA / II  \\\\n3 | 1702714023 | SHIVANGI GARG | 1151 | 1400 | 82.21428571 | III | MCA / II  \\\\n1 | 1802714003 | MANSI NIGAM | 1161 | 1400 | 82.92857143 | I | MCA / I  \\\\n2 | 1802714005 | PREETI JAISWAL | 1124 | 1400 | 80.28571429 | II | MCA / I  \\\\n3 | 1802714004 | MUKUL | 1108 | 1400 | 79.14285714 | III | MCA / I  \\\\n### \\\\n**SL. NO.** | **UNIVERSITY ROLL NO.** | **NAME OF STUDENTS** | **MARKS OBTAINED** | **% MARKS** | **POSITION IN COLLEGE** | **BRANCH / YEAR** | **UNIVERSITY POSITION**  \\\\n---|---|---|---|---|---|---|---  \\\\n1 | 1402700094 | SACHIN MAURYA | 4348 | 86.96 | I | CIVIL / IV | 5th Rank in CE Branch at University level.  \\\\n2 | 1402700108 | SHUBHAM ARORA | 4312 | 86.24 | II | CIVIL / IV | 9th Rank in CE Branch at University level.  \\\\n3 | 1402700042 | DEEKSHA SINGH | 4300 | 86.00 | III | CIVIL / IV  \\\\n4 | 1402710107 | PREETI GUPTA | 4472 | 89.44 | I | CSE / IV | 1st Rank in CSE Branch at University level. (I Rank across all branches of B.Tech. Course) | GOLD + Chancellor Medal  \\\\n5 | 1402710102 | PRAGYA SRIVASTAVA | 4402 | 88.04 | II | CSE / IV | 3rd Rank in CSE Branch at University level. | BRONZE  \\\\n6 | 1402710018 | ANCHAL GARG | 4368 | 87.36 | III | CSE / IV | 7th Rank in CSE Branch at University level.  \\\\n7 | 1402731108 | PRIYANKA SETH | 4318 | 86.36 | I | ECE / IV | 6th Rank in ECE Branch at University level.  \\\\n8 | 1402731164 | UTKARSH AGGARWAL | 4316 | 86.32 | II | ECE / IV | 7th Rank in ECE Branch at University level.  \\\\n9 | 1402731132 | SHALINI GUPTA | 4290 | 85.80 | III | ECE / IV  \\\\n10 | 1402732008 | ANSHIKA TYAGI | 4234 | 84.68 | I | EI / IV | 1st Rank in EI Branch at University level. | GOLD  \\\\n11 | 1402732038 | UJJWAL VERMA | 4098 | 81.96 | II | EI / IV | 9th Rank in EI Branch at University level.  \\\\n12 |'"
      ]
     },
     "execution_count": 16,
     "metadata": {},
     "output_type": "execute_result"
    }
   ],
   "source": [
    "results[\"matches\"][3]['metadata']['source_text']"
   ]
  }
 ],
 "metadata": {
  "kernelspec": {
   "display_name": "Python 3",
   "language": "python",
   "name": "python3"
  },
  "language_info": {
   "codemirror_mode": {
    "name": "ipython",
    "version": 3
   },
   "file_extension": ".py",
   "mimetype": "text/x-python",
   "name": "python",
   "nbconvert_exporter": "python",
   "pygments_lexer": "ipython3",
   "version": "3.12.9"
  }
 },
 "nbformat": 4,
 "nbformat_minor": 2
}
