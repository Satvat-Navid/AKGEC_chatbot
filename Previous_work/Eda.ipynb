{
 "cells": [
  {
   "cell_type": "code",
   "execution_count": 2,
   "id": "b01b80bd",
   "metadata": {},
   "outputs": [],
   "source": [
    "import numpy as np\n",
    "import pandas as pd "
   ]
  },
  {
   "cell_type": "code",
   "execution_count": 3,
   "id": "882667a9",
   "metadata": {},
   "outputs": [
    {
     "name": "stderr",
     "output_type": "stream",
     "text": [
      "<>:1: SyntaxWarning: invalid escape sequence '\\d'\n",
      "<>:1: SyntaxWarning: invalid escape sequence '\\d'\n",
      "C:\\Users\\satwa\\AppData\\Local\\Temp\\ipykernel_16272\\2261934317.py:1: SyntaxWarning: invalid escape sequence '\\d'\n",
      "  ndf = pd.read_csv(\"..\\data\\cleaned_for_rag_cautious.csv\")\n"
     ]
    },
    {
     "name": "stdout",
     "output_type": "stream",
     "text": [
      "                                                 URL  \\\n",
      "0                           https://www.akgec.ac.in/   \n",
      "1               https://www.akgec.ac.in/cse-faculty/   \n",
      "2                  https://www.akgec.ac.in/cse-labs/   \n",
      "3          https://www.akgec.ac.in/cse-achievements/   \n",
      "4  https://www.akgec.ac.in/cse-departmental-activ...   \n",
      "\n",
      "                                             Content  \n",
      "0  Slide One Quality Education Since 1998, AKGEC ...  \n",
      "1  CSE Faculty » CSE Faculty Home Faculty Labs Ac...  \n",
      "2  CSE Labs » CSE Labs Home Faculty Labs Achievem...  \n",
      "3  CSE Achievements » CSE Achievements Home Facul...  \n",
      "4  CSE Departmental Activities » CSE Departmental...  \n"
     ]
    },
    {
     "data": {
      "text/html": [
       "<div>\n",
       "<style scoped>\n",
       "    .dataframe tbody tr th:only-of-type {\n",
       "        vertical-align: middle;\n",
       "    }\n",
       "\n",
       "    .dataframe tbody tr th {\n",
       "        vertical-align: top;\n",
       "    }\n",
       "\n",
       "    .dataframe thead th {\n",
       "        text-align: right;\n",
       "    }\n",
       "</style>\n",
       "<table border=\"1\" class=\"dataframe\">\n",
       "  <thead>\n",
       "    <tr style=\"text-align: right;\">\n",
       "      <th></th>\n",
       "      <th>link</th>\n",
       "      <th>content_chunk</th>\n",
       "    </tr>\n",
       "  </thead>\n",
       "  <tbody>\n",
       "    <tr>\n",
       "      <th>0</th>\n",
       "      <td>https://www.akgec.ac.in/</td>\n",
       "      <td>Slide One Quality Education Since 1998, AKGEC ...</td>\n",
       "    </tr>\n",
       "    <tr>\n",
       "      <th>1</th>\n",
       "      <td>https://www.akgec.ac.in/cse-faculty/</td>\n",
       "      <td>CSE Faculty » CSE Faculty Home Faculty Labs Ac...</td>\n",
       "    </tr>\n",
       "    <tr>\n",
       "      <th>2</th>\n",
       "      <td>https://www.akgec.ac.in/cse-labs/</td>\n",
       "      <td>CSE Labs » CSE Labs Home Faculty Labs Achievem...</td>\n",
       "    </tr>\n",
       "    <tr>\n",
       "      <th>3</th>\n",
       "      <td>https://www.akgec.ac.in/cse-achievements/</td>\n",
       "      <td>CSE Achievements » CSE Achievements Home Facul...</td>\n",
       "    </tr>\n",
       "    <tr>\n",
       "      <th>4</th>\n",
       "      <td>https://www.akgec.ac.in/cse-departmental-activ...</td>\n",
       "      <td>CSE Departmental Activities » CSE Departmental...</td>\n",
       "    </tr>\n",
       "  </tbody>\n",
       "</table>\n",
       "</div>"
      ],
      "text/plain": [
       "                                                link  \\\n",
       "0                           https://www.akgec.ac.in/   \n",
       "1               https://www.akgec.ac.in/cse-faculty/   \n",
       "2                  https://www.akgec.ac.in/cse-labs/   \n",
       "3          https://www.akgec.ac.in/cse-achievements/   \n",
       "4  https://www.akgec.ac.in/cse-departmental-activ...   \n",
       "\n",
       "                                       content_chunk  \n",
       "0  Slide One Quality Education Since 1998, AKGEC ...  \n",
       "1  CSE Faculty » CSE Faculty Home Faculty Labs Ac...  \n",
       "2  CSE Labs » CSE Labs Home Faculty Labs Achievem...  \n",
       "3  CSE Achievements » CSE Achievements Home Facul...  \n",
       "4  CSE Departmental Activities » CSE Departmental...  "
      ]
     },
     "execution_count": 3,
     "metadata": {},
     "output_type": "execute_result"
    }
   ],
   "source": [
    "ndf = pd.read_csv(\"..\\data\\cleaned_for_rag_cautious.csv\")\n",
    "df = pd.read_csv(\"..\\\\data\\\\akg_data.csv\")\n",
    "print(ndf.head())\n",
    "df.head()"
   ]
  },
  {
   "cell_type": "code",
   "execution_count": 4,
   "id": "dabc89c5",
   "metadata": {},
   "outputs": [
    {
     "name": "stdout",
     "output_type": "stream",
     "text": [
      "(225, 2)\n"
     ]
    },
    {
     "data": {
      "text/plain": [
       "(303, 2)"
      ]
     },
     "execution_count": 4,
     "metadata": {},
     "output_type": "execute_result"
    }
   ],
   "source": [
    "print(ndf.shape)\n",
    "df.shape"
   ]
  },
  {
   "cell_type": "code",
   "execution_count": 5,
   "id": "233dea93",
   "metadata": {},
   "outputs": [
    {
     "data": {
      "text/plain": [
       "<bound method DataFrame.nunique of                                                   link  \\\n",
       "0                             https://www.akgec.ac.in/   \n",
       "1                 https://www.akgec.ac.in/cse-faculty/   \n",
       "2                    https://www.akgec.ac.in/cse-labs/   \n",
       "3            https://www.akgec.ac.in/cse-achievements/   \n",
       "4    https://www.akgec.ac.in/cse-departmental-activ...   \n",
       "..                                                 ...   \n",
       "298  https://www.akgec.ac.in/achievements/academicm...   \n",
       "299  https://www.akgec.ac.in/achievements/student-a...   \n",
       "300  https://www.akgec.ac.in/achievements/student-a...   \n",
       "301  https://www.akgec.ac.in/life-akgec/social-resp...   \n",
       "302  https://www.akgec.ac.in/life-akgec/social-resp...   \n",
       "\n",
       "                                         content_chunk  \n",
       "0    Slide One Quality Education Since 1998, AKGEC ...  \n",
       "1    CSE Faculty » CSE Faculty Home Faculty Labs Ac...  \n",
       "2    CSE Labs » CSE Labs Home Faculty Labs Achievem...  \n",
       "3    CSE Achievements » CSE Achievements Home Facul...  \n",
       "4    CSE Departmental Activities » CSE Departmental...  \n",
       "..                                                 ...  \n",
       "298  85.14285714 I MCA / II 2 1802714909 ANUJ KUMAR...  \n",
       "299  ACHIEVEMENTS » Student Awards (Extra Curricula...  \n",
       "300  English Debate, Coding Contest and Frugal Engi...  \n",
       "301  LIFE @ AKGEC » Social Responsibilities » Skill...  \n",
       "302  LIFE @ AKGEC » Social Responsibilities » Blood...  \n",
       "\n",
       "[303 rows x 2 columns]>"
      ]
     },
     "execution_count": 5,
     "metadata": {},
     "output_type": "execute_result"
    }
   ],
   "source": [
    "df.nunique"
   ]
  },
  {
   "cell_type": "code",
   "execution_count": 19,
   "id": "d6bcd945",
   "metadata": {},
   "outputs": [
    {
     "name": "stdout",
     "output_type": "stream",
     "text": [
      "676 ECE Achievements » ECE Achievements Home Faculty Labs Achievements Society Departmental Activities Results of ECE students in the University Exams of AKTU Lukhnow have been excellent. Over the last three years, total 15 students of ECE department appeared in the AKTU Merit List which also includes 04 medalist students. ECE students have won 01 Chancellor’s + Gold Medal, 02 Silver Medals and 01 Bronze Medal in the AKTU Lucknow over the last three academic sessions. ECE & EI: Top Merit Student List of Session 2020-21 S.No. Name CGPA Rank in AKTU Branch 1 Suhani Srivastava 9.20 08 ECE 2 Sakshi Dubey 9.19 09 ECE 3 Malay Pratap Singh 8.91 06 EI 4 Anshul Varshney 8.85 07 EI\n",
      "637 ECE Department Archives » ECE Department Archives History of ECE Department HISTORY / DETAIL YEAR YEAR OF ESTABLISHMENT 1998 FIRST AICTE APPROVAL 1998 AFFILIATED TO CCS UNIVERSITY 1998 AFFILIATED TO UPTU, LUCKNOW 2000 AFFILIATED TO MTU, NOIDA 2010 AFFILIATED TO UPTU, LUCKNOW 2013 AFFILIATED TO AKTU, LUCKNOW 2015 HISTORY / DETAIL SANCTIONED INTAKE SANCTIONED INTAKE 1998 40 SANCTIONED INTAKE 1999 60 SANCTIONED INTAKE 2001 90 SANCTIONED INTAKE 2002 120 SANCTIONED INTAKE 2013 180 NBA ACCREDITATION HISTORY ACCREDITATION YEAR INITIAL ACCREDITATION 2006 FIRST RE-ACCREDITATION 2009 SECOND RE-ACCREDITATION 2014 THIRD RE-ACCREDITATION 2019\n",
      "693 IT Achievements » IT Achievements Home Faculty Labs Achievements Society Departmental Activities • The B.Tech. (Information Technology) Program is NBA Re-Accredited for the academic years 2022-2023 to 2024-2025 i.e., up to 30/06/2025. • 13 students of IT department participated and won Smart India Hackathon (SIH) 2022. • Our student Mansi Agarwal (1502713052) from B.Tech-IT (Batch 2015-19) secured 2nd rank in IT Branch at university level. • Our student Radhika Gupta (1502713074) from B.Tech- IT (Batch 2015-19) secured 4th rank in IT Branch at university level. • Our student Swarnima Shukla (1502713112) from B.Tech- IT (Batch 2015-19) secured 8th rank in IT Branch at university level.\n",
      "156 Request edit access This content is neither created nor endorsed by Google. - Terms of Service - Privacy Policy Does this form look suspicious? Report Forms\n",
      "310 DESKTOP APPLICATION DEVELOPMENT We have developers who are solely developing desktop applications and high-end software products. We develop highly user interactive applications for the industry as well as for personal use. We work on technologies that include high performance and minimal system requirements.\n",
      "591 CE Faculty » CE Faculty Home Faculty Labs Achievements Society Departmental Activities Profile Link Dr.Rakesh Srivastava Professor & HoD Ph.D Profile Link Dr. B.B. Prasad Professor Ph.D Profile Link Ms. Anchal negi Assistant Professor M.Tech Profile Link Mr. Prashant Agarwal Assistant Professor M.Tech Profile Link Ms. Nikita Jaiswal Assistant Professor M.Tech Profile Link Mr. Priyank Srivastava Assistant Professor M.Tech Profile Link Ms. Kshama Shukla Assistant Professor M.Tech Profile Link Ms.Anubha Gupta Assistant Professor M.E. Profile Link Mr. Atri Tyagi Assistant Professor M.Tech\n",
      "114 AS&H Achievements » AS&H Achievements Home Faculty Labs Achievements Society Departmental Activities Updated Soon.\n",
      "51 FDP on Advancement in BT » FDP on Advancement in BT\n",
      "33 FDPonBlockchain » FDPonBlockchain\n",
      "491 NBA,NAA Accreditation Status » NBA,NAA Accreditation Status NAAC Accreditation Status Accredited with A++ Grade NBA Accreditation Status Name of Programmes Accredited (Accredited for the period of three years and valid upto 30-06-2025) (1) B.Tech. (Computer Science & Engineering) (2) B.Tech. (Electronics & Communication Engineering) (3) B.Tech. (Electrical & Electronics Engineering) (4) B.Tech. (Information Technology) (5) B.Tech. (Mechanical Engineering) (Accreditation Letter attached)\n",
      "532 Disability Resource Center » Disability Resource Center A “Disability Resource Centre” has been established in Ajay Kumar Garg Engineering College, Ghaziabad, U.P. Following are the members of this centre Prof. P.K. Chopra Prof. S.L. Kapoor Prof. V.K. Parashar The facilities provided by this centre to students are: Ramp and lift with signage. Hospital and ambulance facility. Reserve seating in class to ensure accessibility. Allow students to record during sessions. Allow breaks during practicals. Separate toilets with signage.\n",
      "576 LIFE @ AKGEC » Events » Festival Celebrations » Basant Panchmi » Basant Panchmi Like every year, festival of Basant Panchami was celebrated in the College on 30 January, 2020. About 750 students, college faculty and staff along with their families and parents of students visited the Faith Centre of the College to seek blessings of Maa Saraswati. Amidst the recital of heart touching ‘Shlokas’ played in dedication to Maa Saraswati, ‘Prasad’ distribution continued from 11:00 am to 6:00 p.m. Atmosphere of devotion and reverence to Maa Saraswati continued throughout the day.\n",
      "981 wed by a coding contest in the CSE labs and Computer Centre on 4th May, 2022. The workshop was organized under supervision of Dr. Sachin Kumar, Head SDC-SI. The workshop saw the enthusiastic participation of 150 students from the First Year. Top 3 performers have been awarded with cash prizes worth Rs. 3000/-. Certificates of participation are provided to all attendees on behalf of SDC-SI. The workshop was planned and conducted meticulously, to cater to students of all skill levels. A presentation was prepared containing explanations for each topic in simple language with examples. Furthermore, study material and resources related to the topics were provided to the students to ease their journey of learning. The workshop introduced the students to the world of competitive programming and helped them gain practical knowledge about basic concepts, hands-on experience in writing well-organised codes and guidance from mentors, consequently raising their technical skills.\n",
      "62 LIFE @ AKGEC » Societies » Student Chapters » Student Chapters\n",
      "593 LIFE @ AKGEC » Events » Sports Events » Faculty Sports Events » Faculty Sports Events With a view to maintain a sense of bonhomie and healthy environment among the faculty & staff, friendly matches are organized every year. This year the matches were organized during 16-18 July, 2019 in Badminton, Table Tennis, Chess, Carom and Pool. All matches were played in spirit of goodwill & enjoyment. The matches were enjoyed equally by the players and the spectators. The winners in various games will be awarded cash prizes and certificates during Closing Ceremony of Inter Department Sports Meet.\n",
      "145 About Press Copyright Contact us Creator Advertise Developers Terms Privacy Policy & Safety How YouTube works Test new features © 2025 Google LLC\n",
      "36 LIFE @ AKGEC » Societies » Societies\n",
      "74 LIFE @ AKGEC » Societies » Departmental Societies » Departmental Societies\n",
      "82 LIFE @ AKGEC » Societies » Extra-Curricular Societies » Extra-Curricular Societies\n",
      "418 tation, we expressed our appreciation by presenting her with a certificate of appreciation, given by Dr. Ruchi Gupta. The workshop on IPR and IP management for students concluded with an interactive Q&A session with students. The workshop was truly enthralling and knowledgeable, with the participation of over 150 students across various disciplines. TEAM IDEALAB presents its gratitude to the speakers and attendees.\n",
      "726 ME Labs » ME Labs Home Faculty Labs Achievements Society Departmental Activities The department is equipped with following lab and workshop facilities. 1. Machine shop 2. Welding shop 3. Smithy & foundry shop 4. Carpentry shop 5. Fitting shop 6. Sheet metal shop 7. Glass Cutting shop 8. Elements of mechanical engineering lab 9. Computer Aided Engg. Graphics Lab. 10. Machine drawing lab 11. Machine design lab 12. Material Science & Testing Lab 13. Fluid Mechanics Lab 14. Heat & Mass Transfer Lab 15. Measurement Metrology Lab 16. Theory of Machines Lab 17. CAD/CAM Lab 18. Automobile & IC Engines Lab 19. Hydraulic Machine Lab 20. RAC Lab 21. Basic Thermodynamics Lab 22. Applied Thermodynamics Lab WORKSHOP FM LAB CAD LAB\n",
      "800 ME Achievements » ME Achievements Home Faculty Labs Achievements Society Departmental Activities • The B.Tech Mechanical Engineering Program is NBA Accredited for the academic years 2022-2023 to 2024-2025 i.e., up to 30/06/2025. • Our final year ME students (Deepanjali Rajput ME-1 and Shashwat Yadav ME-2) have participated in 74th International Astronautical Congress held at Baku, Azerbaijan, during 2-6 October 2023. • Our student performed very good rank in AKTU and won Medals. • Many students of BTech ME (Batch 2018-22) are placed in reputed company with a good package. • Faculties published many Research papers (SCI, Scopus indexed, Springer, Scopus) in 2021-2022. • Abhay Jaiswal 4th year Student of ME with his team Blaze won joint winner award at SIH 2022 with cash prize of Rs. 1 lakh.\n",
      "149 Events » Refresher Course in UHVPE for... » Refresher Course in UHVPE for Deans and HODs Refresher Course in UHVPE for Deans and Heads of Departments\n",
      "126 AKGEC celebrated the 76th Independence Day by raising the ‘Tiranga’ across the college. Date: 21 June 2021 Date: 20 June, 2020\n",
      "72 News » Common Facility Centre in AKGEC » Common Facility Centre in AKGEC\n",
      "44 News » AKTU Notification » AKTU Notification\n",
      "55 LIFE @ AKGEC » Events » College Events » College Events\n",
      "90 Information Booklet for session 2020-21 » Information Booklet for session 2020-21 Download\n",
      "762 Programming Club » Programming Club Programming Club Year: 2023-24 Event Dates Report #include 3.0 16-17 April 2024 View Code Crunch 13 December, 2023 View Year: 2022-23 Event Dates Report #include 2.0 13 May, 2023 View #include 11 October, 2022 View Year: 2021-22 Event Dates Report BIT CODERS 20 April, 2022 View Year: 2020-21 Event Dates Report CODE-IN-CORONA 17 April, 2021 View Online Internal Hackathon 21-22 August, 2020 View Year: 2019-20 Event Dates Report Sacred Codes 28 th September, 2019 View HCL AI Hackathon 2 nd & 3 rd November, 2019 View ACM-ICPC Hackathon 30 th & 31 st December, 2019 View Year: 2018-19 Event Dates Report One Week Workshop on Data Structures & Algorithms for Competitive Programming 5 th March , 2019 to 11 th March, 2019 View\n",
      "552 Google Developer Students Club » Google Developer Students Club Faculty Coordinators HOD Prof. Rahul Sharma Faculty Co-Ordinator Mr. Birendra Kumar Student Coordinators Organizer Shreya Pal Co-Organizer Ananya Jain Co-Organizer Sankalp Jha Co-Organizer Abhishek Kumar Recent Activities Session 2024 – 2025(ODD) Build with A.I Tech Winter Break Google Solution Challenge 2025 Session 2023 – 2024(EVEN) ML Study Jams Web Weave Tensor Flow Power Up Session 2023 – 2024(ODD) Google Solution Challenge 2023 Flutter Forward Extended GDSC WoW Week Of Learning\n",
      "485 ABOUT » Infrastructure/Visual Tour » Stationary Shop » Stationary Shop To facilitate student needs, a stationary store is present inside college campus . This store stocks full range of stationary stuffs required by students for their day to day curriculum activities including study material like textbooks , reference books, journals, laboratory manuals and many more. All the stationary for students are available at very reasonable rates. Store is open during college timings only.\n",
      "497 ABOUT » Infrastructure/Visual Tour » College Canteen » College Canteen The college canteen is one of the liveliest areas of the campus. It aims at providing high-quality and nutritious food and always strives to follow high standards of cleanliness. A wide variety of food items and beverages are available at very nominal rates. The campus has 2 food outlets situated at Mechanical and CS-IT blocks respectively. Canteens remain open from 9 a.m. to 5 p.m. on all working days including Saturdays.\n",
      "37 AKGEC Visual Tour » AKGEC Visual Tour\n",
      "175 Mandatory Disclosure » Mandatory Disclosure Mandatory Disclosure 2025-26 Income and Expenditure account Balance Sheet Disability Resource Center NBA, NAAC Accreditation Status\n",
      "136 NIRF Data for Ranking 2025 » NIRF Data for Ranking 2025 NIRF DATA FOR RANKING 2025 - ENGINEERING NIRF DATA FOR RANKING 2025 - INNOVATION\n",
      "155 Grievance Committee » Grievance Committee Internal Complaints Committee Student Grievance Committee Grievance Redressal Committee (GRC) for Faculty & Staff\n",
      "211 ABOUT » Gallery » Gallery Admin Block Girls Hostel Boys Hostel Faith Centre Library Academic Block Reception Area Entry to Director's Office College Lawns First Year Girls Hostel Sports Ground CS/IT Ground Floor\n",
      "780 ABOUT » Approvals by Statutory Bodies » Approvals by Statutory Bodies NAAC The only engineering college in Uttar Pradesh (AKTU) accredited by NAAC with the highest grading of A++. AICTE Approval of extension for Engineering and Technology Programs for the Academic Year 2025-26 granted vide AICTE letter no. F.No. Northern/1-44640999101/2025/EOA dated 03-Jan-2025 addressed to the Principal Secretary (Tech. Edu.), Govt. of Uttar Pradesh. AKTU Affiliation letter by AKTU for the academic year 2024-25 to 2026-27 granted vide AKTU letter no. AKTU/RO/AS/2024/3319 dated 26-July-2024 addressed to the Director, Ajay Kumar Garg Engineering College. NBA Five B.Tech. branches in CSE, ECE, EN, IT & ME are accredited for the period of three year w.e.f. academic year 2022-23 To 2024-25.\n",
      "775 Courses Offered » Courses Offered Courses Sanctioned Intake B.Tech Computer Science and Engineering 180 Computer Science and Engineering (Artificial Intelligence & Machine Learning) 120 Computer Science and Engineering (Data Science) 120 Computer Science 150 Computer Science and Engineering (Hindi) 60 Artificial Intelligence & Machine Learning 60 Information Technology 180 Computer Science and Information Technology 120 Electronics and Communication Engineering 180 Mechanical Engineering 60 Electrical and Electronics Engineering 60 Civil Engineering 30 M.Tech Computer Science and Engineering 18 Electrical and Electronics Engineering 18 Electronics and Communication Engineering 18 Mechanical Engineering 9 Master of Computer Applications (MCA) MCA 120 MBA (AKGIM) 120\n",
      "400 AICTE Approval Letters » AICTE Approval Letters Year 2025-26 Year 2020-21 Year 2015-16 Year 2010-11 Year 2005-06 Year 1999-2000 Year 2024-25 Year 2019-20 Year 2014-15 Year 2009-10 Year 2003-06 Year 1998-99 Year 2023-24 Year 2018-19 Year 2013-14 Year 2008-09 Year 2002-03 Year 2022-23 Year 2017-18 Year 2012-13 Year 2007-08 Year 2001-03 Year 2021-22 Year 2016-17 Year 2011-12 Year 2006-07 Year 2000-01\n",
      "890 success-stories » Shivam Agarwal, Alumni, Ajay Kumar... » Shivam Agarwal, Alumni, Ajay Kumar Garg Engineering College showcased 15 social problem-solving projects at Rashtrapati Bhawan We are proud to share that an alumnus Shivam Agarwal of Ajay Kumar Garg Engineering College showcased 15 social problem-solving projects at Rashtrapati Bhawan, developed under the mentorship of the 1M1B team, on the invitation of the Honorable President of India. These visionary projects, addressing global challenges like climate change, received high praise from Madam President for their impactful approach. This recognition reflects AKGEC’s dedication to fostering innovation through platforms like TIFAC Core, equipping students with problem-solving skills and technical expertise to drive meaningful change.We thank all mentors and stakeholders for nurturing a culture of innovation and excellence.\n",
      "218 ABOUT » Infrastructure/Visual Tour » Academic Complex » Academic Complex ADMINISTRATIVE BLOCK LECTURE ROOMS & TUTORIALS MECHANICAL BLOCK EN / EC BLOCK Computer Center LECTURE THEATRE COMPLEX SEMINAR HALLS CS / IT BLOCK\n",
      "786 ABOUT » Infrastructure/Visual Tour » Support Facilities » Support Facilities POWER BACK UP DG sets 2365 kVA (320+ 200 +200+140 +125+500+500+380) Dedicated 1445 kVA feeder line WATER 3 Bore wells Chlorination dozing system 19 Harvesting wells REPROGRAPHIC 5 in campus and 1 in hostel MEDICAL FACILITY Cashless medical cover to students Indo German Hospital (on campus) Ambulance on call First aid kits and stretchers Collaboration with Shivam hospital INTERNET FACILITY 20 mbps radio link / 80 mbps fiber Internet lab (8:30 am to 9:00 pm) Wi-fi (whole campus) CANTEEN Modern hygienic college canteens TRANSPORT 2 college owned buses 5 contracted buses 16 light vehicles BANKING On campus ATM UTILITY SHOPS 1 Stationary Shop in College Campus Each hostel also has a utility shop & canteen\n",
      "964 Internal Complaints Committee » Internal Complaints Committee In continuation to notice AKGEC/D.O.Notice/28/09-10 dated 9th August, 2009 and under the provision of the Sexual Harassment of Women at Prevention, Prohibition and Redressal Act, 2013, the following internal Complaint Committee is reformed with the following composition. Name & Designation of the Committee Member Designation Dr. Shiwani Singhal, Associate Professor, ASH Chair Person Prof. I.P. Sharma, Professor, ME Member Dr. Anu Chaudhary, Professor, IT Member Dr. Vani Bhargava, Associate Professor, EN Member Ms. Neelam Chhiber, HR Manager Member Mr. Vishal Goel, CPO Member Ms. Anvesha Pandey, Student (3rd Year, EN) Member Ms. Aditi Rai, Student (3rd Year, EN) Member Ms. Priya Sharma, Student (3rd Year, CSE) Member In event of any incident of sexual harassment, lady staff/student may feel free to contact any member of the committee. Dr. R.K. Agarwal Director General Grievance Registration\n",
      "477 Online Reporting of Ragging Cases » Online Reporting of Ragging Cases As per UGC regulation of 2010 on prevention of ragging and AKTU/VC office /2021/11154 letter of dated 02 Jul regarding online reporting of all such cases the college has constituted a standing Anti Ragging Committee (ARC) under the chairmanship of the Director. All cases of ragging may now be reported Online as follows: Convener of ARC : kapoorsl@akgec.ac.in Director of the college : director@akgec.ac.in\n",
      "45\n"
     ]
    }
   ],
   "source": [
    "l = 0\n",
    "for i, j in zip(ndf.iloc[:,1], df.iloc[:,1]):\n",
    "    if len(j) < 1000:\n",
    "        # print(len(i),\"  \", len(str(j)))\n",
    "        print(len(j), j)\n",
    "        l = l +1\n",
    "print(l)"
   ]
  },
  {
   "cell_type": "code",
   "execution_count": 9,
   "id": "f722f81b",
   "metadata": {},
   "outputs": [
    {
     "name": "stdout",
     "output_type": "stream",
     "text": [
      "2312823\n"
     ]
    }
   ],
   "source": [
    "sum = 0\n",
    "for i in df.iloc[:,1]:\n",
    "    sum = sum + len(str(i))\n",
    "\n",
    "print(sum)"
   ]
  },
  {
   "cell_type": "code",
   "execution_count": 10,
   "id": "5395c647",
   "metadata": {},
   "outputs": [
    {
     "data": {
      "text/plain": [
       "<bound method DataFrame.nunique of                                                    URL  \\\n",
       "0                             https://www.akgec.ac.in/   \n",
       "1                 https://www.akgec.ac.in/cse-faculty/   \n",
       "2                    https://www.akgec.ac.in/cse-labs/   \n",
       "3            https://www.akgec.ac.in/cse-achievements/   \n",
       "4    https://www.akgec.ac.in/cse-departmental-activ...   \n",
       "..                                                 ...   \n",
       "220  https://www.akgec.ac.in/achievements/akgecians...   \n",
       "221  https://www.akgec.ac.in/achievements/academicm...   \n",
       "222  https://www.akgec.ac.in/achievements/student-a...   \n",
       "223  https://www.akgec.ac.in/life-akgec/social-resp...   \n",
       "224  https://www.akgec.ac.in/life-akgec/social-resp...   \n",
       "\n",
       "                                               Content  \n",
       "0    Slide One Quality Education Since 1998, AKGEC ...  \n",
       "1    CSE Faculty » CSE Faculty Home Faculty Labs Ac...  \n",
       "2    CSE Labs » CSE Labs Home Faculty Labs Achievem...  \n",
       "3    CSE Achievements » CSE Achievements Home Facul...  \n",
       "4    CSE Departmental Activities » CSE Departmental...  \n",
       "..                                                 ...  \n",
       "220  ACHIEVEMENTS » AKGECians in Merit List » AKGEC...  \n",
       "221  ACHIEVEMENTS » ACADEMIC MERIT AWARDS » ACADEMI...  \n",
       "222  ACHIEVEMENTS » Student Awards (Extra Curricula...  \n",
       "223  LIFE @ AKGEC » Social Responsibilities » Skill...  \n",
       "224  LIFE @ AKGEC » Social Responsibilities » Blood...  \n",
       "\n",
       "[225 rows x 2 columns]>"
      ]
     },
     "execution_count": 10,
     "metadata": {},
     "output_type": "execute_result"
    }
   ],
   "source": [
    "ndf.nunique"
   ]
  }
 ],
 "metadata": {
  "kernelspec": {
   "display_name": "Python 3",
   "language": "python",
   "name": "python3"
  },
  "language_info": {
   "codemirror_mode": {
    "name": "ipython",
    "version": 3
   },
   "file_extension": ".py",
   "mimetype": "text/x-python",
   "name": "python",
   "nbconvert_exporter": "python",
   "pygments_lexer": "ipython3",
   "version": "3.12.9"
  }
 },
 "nbformat": 4,
 "nbformat_minor": 5
}
